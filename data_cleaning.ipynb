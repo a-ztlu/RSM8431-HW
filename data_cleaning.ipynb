{
 "cells": [
  {
   "cell_type": "code",
   "execution_count": 2,
   "id": "114e8a2b",
   "metadata": {},
   "outputs": [],
   "source": [
    "import numpy as np\n",
    "import pandas as pd\n",
    "import pandas as pd\n",
    "import matplotlib.pyplot as plt\n",
    "import seaborn as sns\n",
    "\n",
    "from numpy import arange\n",
    "from pandas import read_table, set_option\n",
    "from pandas.plotting import scatter_matrix\n",
    "\n",
    "from sklearn.preprocessing import StandardScaler\n",
    "from sklearn.model_selection import train_test_split, KFold, cross_val_score, GridSearchCV\n"
   ]
  },
  {
   "cell_type": "code",
   "execution_count": 30,
   "id": "f04f98ba",
   "metadata": {},
   "outputs": [],
   "source": [
    "df = pd.read_excel('ebayAuctions.xlsx',sheet_name='eBay auctions')"
   ]
  },
  {
   "cell_type": "code",
   "execution_count": 12,
   "id": "41dd7e22",
   "metadata": {},
   "outputs": [
    {
     "data": {
      "application/vnd.microsoft.datawrangler.viewer.v0+json": {
       "columns": [
        {
         "name": "index",
         "rawType": "int64",
         "type": "integer"
        },
        {
         "name": "Category",
         "rawType": "object",
         "type": "string"
        },
        {
         "name": "Currency",
         "rawType": "object",
         "type": "string"
        },
        {
         "name": "sellerRating",
         "rawType": "int64",
         "type": "integer"
        },
        {
         "name": "Duration",
         "rawType": "int64",
         "type": "integer"
        },
        {
         "name": "endDay",
         "rawType": "object",
         "type": "string"
        },
        {
         "name": "ClosePrice",
         "rawType": "float64",
         "type": "float"
        },
        {
         "name": "OpenPrice",
         "rawType": "float64",
         "type": "float"
        },
        {
         "name": "Competitive?",
         "rawType": "int64",
         "type": "integer"
        }
       ],
       "ref": "9188ce3c-a89f-4b87-aec3-63bb329407bd",
       "rows": [
        [
         "0",
         "Music/Movie/Game",
         "US",
         "3249",
         "5",
         "Mon",
         "0.01",
         "0.01",
         "0"
        ],
        [
         "1",
         "Music/Movie/Game",
         "US",
         "3249",
         "5",
         "Mon",
         "0.01",
         "0.01",
         "0"
        ],
        [
         "2",
         "Music/Movie/Game",
         "US",
         "3249",
         "5",
         "Mon",
         "0.01",
         "0.01",
         "0"
        ],
        [
         "3",
         "Music/Movie/Game",
         "US",
         "3249",
         "5",
         "Mon",
         "0.01",
         "0.01",
         "0"
        ],
        [
         "4",
         "Music/Movie/Game",
         "US",
         "3249",
         "5",
         "Mon",
         "0.01",
         "0.01",
         "0"
        ]
       ],
       "shape": {
        "columns": 8,
        "rows": 5
       }
      },
      "text/html": [
       "<div>\n",
       "<style scoped>\n",
       "    .dataframe tbody tr th:only-of-type {\n",
       "        vertical-align: middle;\n",
       "    }\n",
       "\n",
       "    .dataframe tbody tr th {\n",
       "        vertical-align: top;\n",
       "    }\n",
       "\n",
       "    .dataframe thead th {\n",
       "        text-align: right;\n",
       "    }\n",
       "</style>\n",
       "<table border=\"1\" class=\"dataframe\">\n",
       "  <thead>\n",
       "    <tr style=\"text-align: right;\">\n",
       "      <th></th>\n",
       "      <th>Category</th>\n",
       "      <th>Currency</th>\n",
       "      <th>sellerRating</th>\n",
       "      <th>Duration</th>\n",
       "      <th>endDay</th>\n",
       "      <th>ClosePrice</th>\n",
       "      <th>OpenPrice</th>\n",
       "      <th>Competitive?</th>\n",
       "    </tr>\n",
       "  </thead>\n",
       "  <tbody>\n",
       "    <tr>\n",
       "      <th>0</th>\n",
       "      <td>Music/Movie/Game</td>\n",
       "      <td>US</td>\n",
       "      <td>3249</td>\n",
       "      <td>5</td>\n",
       "      <td>Mon</td>\n",
       "      <td>0.01</td>\n",
       "      <td>0.01</td>\n",
       "      <td>0</td>\n",
       "    </tr>\n",
       "    <tr>\n",
       "      <th>1</th>\n",
       "      <td>Music/Movie/Game</td>\n",
       "      <td>US</td>\n",
       "      <td>3249</td>\n",
       "      <td>5</td>\n",
       "      <td>Mon</td>\n",
       "      <td>0.01</td>\n",
       "      <td>0.01</td>\n",
       "      <td>0</td>\n",
       "    </tr>\n",
       "    <tr>\n",
       "      <th>2</th>\n",
       "      <td>Music/Movie/Game</td>\n",
       "      <td>US</td>\n",
       "      <td>3249</td>\n",
       "      <td>5</td>\n",
       "      <td>Mon</td>\n",
       "      <td>0.01</td>\n",
       "      <td>0.01</td>\n",
       "      <td>0</td>\n",
       "    </tr>\n",
       "    <tr>\n",
       "      <th>3</th>\n",
       "      <td>Music/Movie/Game</td>\n",
       "      <td>US</td>\n",
       "      <td>3249</td>\n",
       "      <td>5</td>\n",
       "      <td>Mon</td>\n",
       "      <td>0.01</td>\n",
       "      <td>0.01</td>\n",
       "      <td>0</td>\n",
       "    </tr>\n",
       "    <tr>\n",
       "      <th>4</th>\n",
       "      <td>Music/Movie/Game</td>\n",
       "      <td>US</td>\n",
       "      <td>3249</td>\n",
       "      <td>5</td>\n",
       "      <td>Mon</td>\n",
       "      <td>0.01</td>\n",
       "      <td>0.01</td>\n",
       "      <td>0</td>\n",
       "    </tr>\n",
       "  </tbody>\n",
       "</table>\n",
       "</div>"
      ],
      "text/plain": [
       "           Category Currency  sellerRating  Duration endDay  ClosePrice  \\\n",
       "0  Music/Movie/Game       US          3249         5    Mon        0.01   \n",
       "1  Music/Movie/Game       US          3249         5    Mon        0.01   \n",
       "2  Music/Movie/Game       US          3249         5    Mon        0.01   \n",
       "3  Music/Movie/Game       US          3249         5    Mon        0.01   \n",
       "4  Music/Movie/Game       US          3249         5    Mon        0.01   \n",
       "\n",
       "   OpenPrice  Competitive?  \n",
       "0       0.01             0  \n",
       "1       0.01             0  \n",
       "2       0.01             0  \n",
       "3       0.01             0  \n",
       "4       0.01             0  "
      ]
     },
     "execution_count": 12,
     "metadata": {},
     "output_type": "execute_result"
    }
   ],
   "source": [
    "df.head()"
   ]
  },
  {
   "cell_type": "code",
   "execution_count": 11,
   "id": "fb737286",
   "metadata": {},
   "outputs": [
    {
     "data": {
      "text/plain": [
       "(1972, 8)"
      ]
     },
     "execution_count": 11,
     "metadata": {},
     "output_type": "execute_result"
    }
   ],
   "source": [
    "df.shape"
   ]
  },
  {
   "cell_type": "code",
   "execution_count": 22,
   "id": "66f5a6e3",
   "metadata": {},
   "outputs": [
    {
     "data": {
      "application/vnd.microsoft.datawrangler.viewer.v0+json": {
       "columns": [
        {
         "name": "Category",
         "rawType": "object",
         "type": "string"
        },
        {
         "name": "count",
         "rawType": "int64",
         "type": "integer"
        }
       ],
       "ref": "700fd7e7-030a-43ca-a9c2-ca14556e5d60",
       "rows": [
        [
         "Music/Movie/Game",
         "403"
        ],
        [
         "Collectibles",
         "239"
        ],
        [
         "Toys/Hobbies",
         "234"
        ],
        [
         "Automotive",
         "178"
        ],
        [
         "Antique/Art/Craft",
         "177"
        ],
        [
         "SportingGoods",
         "124"
        ],
        [
         "Clothing/Accessories",
         "119"
        ],
        [
         "Home/Garden",
         "102"
        ],
        [
         "Jewelry",
         "82"
        ],
        [
         "Health/Beauty",
         "64"
        ],
        [
         "Electronics",
         "55"
        ],
        [
         "Books",
         "54"
        ],
        [
         "Coins/Stamps",
         "37"
        ],
        [
         "Computer",
         "36"
        ],
        [
         "Pottery/Glass",
         "20"
        ],
        [
         "Business/Industrial",
         "18"
        ],
        [
         "EverythingElse",
         "17"
        ],
        [
         "Photography",
         "13"
        ]
       ],
       "shape": {
        "columns": 1,
        "rows": 18
       }
      },
      "text/plain": [
       "Category\n",
       "Music/Movie/Game        403\n",
       "Collectibles            239\n",
       "Toys/Hobbies            234\n",
       "Automotive              178\n",
       "Antique/Art/Craft       177\n",
       "SportingGoods           124\n",
       "Clothing/Accessories    119\n",
       "Home/Garden             102\n",
       "Jewelry                  82\n",
       "Health/Beauty            64\n",
       "Electronics              55\n",
       "Books                    54\n",
       "Coins/Stamps             37\n",
       "Computer                 36\n",
       "Pottery/Glass            20\n",
       "Business/Industrial      18\n",
       "EverythingElse           17\n",
       "Photography              13\n",
       "Name: count, dtype: int64"
      ]
     },
     "execution_count": 22,
     "metadata": {},
     "output_type": "execute_result"
    }
   ],
   "source": [
    "df['Category'].value_counts()"
   ]
  },
  {
   "cell_type": "code",
   "execution_count": null,
   "id": "4bbfd3ae",
   "metadata": {},
   "outputs": [],
   "source": [
    "# extract all categories and store in a list\n",
    "category_list = df['Category'].unique().tolist()"
   ]
  },
  {
   "cell_type": "code",
   "execution_count": null,
   "id": "0f03a7a9",
   "metadata": {},
   "outputs": [],
   "source": [
    "# Create dummy variables for each category\n",
    "for category in category_list:\n",
    "    df[category] = df['Category'] == category\n"
   ]
  },
  {
   "cell_type": "code",
   "execution_count": null,
   "id": "90a86b86",
   "metadata": {},
   "outputs": [],
   "source": []
  }
 ],
 "metadata": {
  "kernelspec": {
   "display_name": "Python 3",
   "language": "python",
   "name": "python3"
  },
  "language_info": {
   "codemirror_mode": {
    "name": "ipython",
    "version": 3
   },
   "file_extension": ".py",
   "mimetype": "text/x-python",
   "name": "python",
   "nbconvert_exporter": "python",
   "pygments_lexer": "ipython3",
   "version": "3.13.7"
  }
 },
 "nbformat": 4,
 "nbformat_minor": 5
}
